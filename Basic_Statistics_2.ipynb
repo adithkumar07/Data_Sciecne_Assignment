{
 "cells": [
  {
   "cell_type": "markdown",
   "id": "b4082c8f",
   "metadata": {},
   "source": [
    "# T-Test"
   ]
  },
  {
   "cell_type": "code",
   "execution_count": 5,
   "id": "0e28a39e",
   "metadata": {},
   "outputs": [],
   "source": [
    "import numpy as np\n",
    "import pandas as pd\n",
    "from scipy import stats"
   ]
  },
  {
   "cell_type": "code",
   "execution_count": 3,
   "id": "4873e0ee",
   "metadata": {},
   "outputs": [],
   "source": [
    "#Student Scores\n",
    "data=np.array([1.13,1.55,1.43,0.92,1.25,1.36,1.32,0.85,1.07,1.48,1.20,1.33,1.18,1.22,1.29])"
   ]
  },
  {
   "cell_type": "code",
   "execution_count": 7,
   "id": "78381f3b",
   "metadata": {},
   "outputs": [
    {
     "name": "stdout",
     "output_type": "stream",
     "text": [
      "    Values\n",
      "0     1.13\n",
      "1     1.55\n",
      "2     1.43\n",
      "3     0.92\n",
      "4     1.25\n",
      "5     1.36\n",
      "6     1.32\n",
      "7     0.85\n",
      "8     1.07\n",
      "9     1.48\n",
      "10    1.20\n",
      "11    1.33\n",
      "12    1.18\n",
      "13    1.22\n",
      "14    1.29\n"
     ]
    }
   ],
   "source": [
    "#Hypothesized population mean \n",
    "df=pd.DataFrame(data)\n",
    "df\n",
    "col_names=['Values']\n",
    "df.columns=col_names\n",
    "print(df)"
   ]
  },
  {
   "cell_type": "code",
   "execution_count": 9,
   "id": "0d126899",
   "metadata": {},
   "outputs": [
    {
     "data": {
      "text/plain": [
       "1.2386666666666666"
      ]
     },
     "execution_count": 9,
     "metadata": {},
     "output_type": "execute_result"
    }
   ],
   "source": [
    "mu=df['Values'].mean()\n",
    "mu\n"
   ]
  },
  {
   "cell_type": "code",
   "execution_count": 10,
   "id": "46420f9f",
   "metadata": {},
   "outputs": [
    {
     "name": "stdout",
     "output_type": "stream",
     "text": [
      "T statistics: 0.0\n",
      "P-value: 1.0\n"
     ]
    }
   ],
   "source": [
    "#Perform T-test\n",
    "tstat,pvalue=stats.ttest_1samp(df['Values'],mu)\n",
    "print(\"T statistics:\",tstat)\n",
    "print(\"P-value:\",pvalue)\n"
   ]
  },
  {
   "cell_type": "code",
   "execution_count": 11,
   "id": "26356d9e",
   "metadata": {},
   "outputs": [
    {
     "name": "stdout",
     "output_type": "stream",
     "text": [
      "H1 is rejected and H0 is accepted\n"
     ]
    }
   ],
   "source": [
    "alpha=0.01\n",
    "if pvalue<alpha:\n",
    "    print(\"H0 is rejected and H1 is accepted\")\n",
    "else:\n",
    "    print(\"H1 is rejected and H0 is accepted\")\n",
    "    "
   ]
  },
  {
   "cell_type": "markdown",
   "id": "dc926341",
   "metadata": {},
   "source": [
    "# Z-Test"
   ]
  },
  {
   "cell_type": "code",
   "execution_count": 12,
   "id": "7e93a7d0",
   "metadata": {},
   "outputs": [],
   "source": [
    "import numpy as np\n",
    "import pandas as pd\n",
    "from scipy.stats import binom\n",
    "from scipy.stats import norm\n",
    "from scipy import stats\n",
    "from statsmodels.stats import weightstats as ztests\n"
   ]
  },
  {
   "cell_type": "code",
   "execution_count": 13,
   "id": "e5e5cae7",
   "metadata": {},
   "outputs": [],
   "source": [
    "data = np.array([1.13, 1.55, 1.43, 0.92, 1.25, 1.36, 1.32, 0.85, 1.07, 1.48, 1.20, 1.33, 1.18, 1.22, 1.29])\n"
   ]
  },
  {
   "cell_type": "code",
   "execution_count": 14,
   "id": "59da3438",
   "metadata": {},
   "outputs": [
    {
     "name": "stdout",
     "output_type": "stream",
     "text": [
      "    Values\n",
      "0     1.13\n",
      "1     1.55\n",
      "2     1.43\n",
      "3     0.92\n",
      "4     1.25\n",
      "5     1.36\n",
      "6     1.32\n",
      "7     0.85\n",
      "8     1.07\n",
      "9     1.48\n",
      "10    1.20\n",
      "11    1.33\n",
      "12    1.18\n",
      "13    1.22\n",
      "14    1.29\n"
     ]
    }
   ],
   "source": [
    "df=pd.DataFrame(data)\n",
    "df\n",
    "df=pd.DataFrame(data)\n",
    "df\n",
    "col_names=['Values']\n",
    "df.columns=col_names\n",
    "print(df)"
   ]
  },
  {
   "cell_type": "code",
   "execution_count": 15,
   "id": "1d452068",
   "metadata": {},
   "outputs": [
    {
     "name": "stdout",
     "output_type": "stream",
     "text": [
      "1.2386666666666666\n"
     ]
    }
   ],
   "source": [
    "mu=df['Values'].mean()\n",
    "print(mu)\n",
    "zcalc,pvalue=ztests.ztest(df['Values'],value=1,alternative='smaller')\n"
   ]
  },
  {
   "cell_type": "code",
   "execution_count": 16,
   "id": "21b78488",
   "metadata": {},
   "outputs": [
    {
     "name": "stdout",
     "output_type": "stream",
     "text": [
      "Z calculated value : 4.785319237864924\n",
      "p value 0.9999991464211515\n"
     ]
    }
   ],
   "source": [
    "print(\"Z calculated value :\",zcalc)\n",
    "print(\"p value\",pvalue)\n"
   ]
  },
  {
   "cell_type": "code",
   "execution_count": 17,
   "id": "84ffb5ff",
   "metadata": {},
   "outputs": [
    {
     "name": "stdout",
     "output_type": "stream",
     "text": [
      "H1 is rejected and H0 is accepted \n"
     ]
    }
   ],
   "source": [
    "alpha=0.01\n",
    "if pvalue<alpha:\n",
    "    print(\"H0 is rejected and H1 is accepted\")\n",
    "else:\n",
    "    print(\"H1 is rejected and H0 is accepted \")\n",
    "    "
   ]
  },
  {
   "cell_type": "code",
   "execution_count": null,
   "id": "5a5d220b",
   "metadata": {},
   "outputs": [],
   "source": []
  }
 ],
 "metadata": {
  "kernelspec": {
   "display_name": "Python 3 (ipykernel)",
   "language": "python",
   "name": "python3"
  },
  "language_info": {
   "codemirror_mode": {
    "name": "ipython",
    "version": 3
   },
   "file_extension": ".py",
   "mimetype": "text/x-python",
   "name": "python",
   "nbconvert_exporter": "python",
   "pygments_lexer": "ipython3",
   "version": "3.11.5"
  }
 },
 "nbformat": 4,
 "nbformat_minor": 5
}
