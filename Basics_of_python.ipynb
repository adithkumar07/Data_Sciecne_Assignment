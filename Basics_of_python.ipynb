{
 "cells": [
  {
   "cell_type": "markdown",
   "id": "b5869dd5",
   "metadata": {},
   "source": [
    "# Exercise 1: Prime Numbers\n",
    "\n",
    "#Write a Python program that checks whether a given number is prime or not. A prime number is a natural number greater than 1 that has no positive divisors other than 1 and itself.\n"
   ]
  },
  {
   "cell_type": "code",
   "execution_count": 9,
   "id": "2545c8e7",
   "metadata": {},
   "outputs": [
    {
     "name": "stdout",
     "output_type": "stream",
     "text": [
      "Enter the number :7\n",
      "7 is a prime number\n"
     ]
    }
   ],
   "source": [
    "num=int(input(\"Enter the number :\"))\n",
    "if num > 1:\n",
    "    for i in range(2, (num//2)+1):\n",
    "        if (num % i) == 0:\n",
    "            print(num, \"is not a prime number\")\n",
    "            break\n",
    "    else:\n",
    "        print(num, \"is a prime number\")\n",
    "else:\n",
    "    print(num, \"is not a prime number\")"
   ]
  },
  {
   "cell_type": "code",
   "execution_count": null,
   "id": "4aa2f9de",
   "metadata": {},
   "outputs": [],
   "source": []
  },
  {
   "cell_type": "markdown",
   "id": "7e82e68f",
   "metadata": {},
   "source": [
    "# Exercise 2: Product of Random Numbers\n",
    "Develop a Python program that generates two random numbers and asks the user to enter the product of these numbers. The program should then check if the user's answer is correct and display an appropriate message.\n"
   ]
  },
  {
   "cell_type": "code",
   "execution_count": 11,
   "id": "f8354ea3",
   "metadata": {},
   "outputs": [
    {
     "name": "stdout",
     "output_type": "stream",
     "text": [
      "What is the product of 49 and 60 = 2940\n",
      "Congratulations! The Answer is Correct\n"
     ]
    }
   ],
   "source": [
    "import random\n",
    "\n",
    "num1 = random.randint(1, 100)\n",
    "num2 = random.randint(1, 100)\n",
    "\n",
    "num3 = num1 * num2\n",
    "\n",
    "user_ans = int(input(f\"What is the product of {num1} and {num2} = \"))\n",
    "\n",
    "if user_ans == num3:\n",
    "  print(\"Congratulations! The Answer is Correct\")\n",
    "else:\n",
    "  print(\"Oops wrong answer, Correct answer is\", num3)\n"
   ]
  },
  {
   "cell_type": "code",
   "execution_count": null,
   "id": "06bc3ddc",
   "metadata": {},
   "outputs": [],
   "source": []
  },
  {
   "cell_type": "markdown",
   "id": "2b744f71",
   "metadata": {},
   "source": [
    "# Exercise 3: Squares of Even/Odd Numbers\n",
    "Create a Python script that prints the squares of all even or odd numbers within the range of 100 to 200. Choose either even or odd numbers and document your choice in the code.\n"
   ]
  },
  {
   "cell_type": "code",
   "execution_count": 12,
   "id": "bec1011f",
   "metadata": {
    "collapsed": true
   },
   "outputs": [
    {
     "name": "stdout",
     "output_type": "stream",
     "text": [
      "Square of Even number falling in the range of 100 - 200 are = \n",
      "100 x 100 =  10000\n",
      "102 x 102 =  10404\n",
      "104 x 104 =  10816\n",
      "106 x 106 =  11236\n",
      "108 x 108 =  11664\n",
      "110 x 110 =  12100\n",
      "112 x 112 =  12544\n",
      "114 x 114 =  12996\n",
      "116 x 116 =  13456\n",
      "118 x 118 =  13924\n",
      "120 x 120 =  14400\n",
      "122 x 122 =  14884\n",
      "124 x 124 =  15376\n",
      "126 x 126 =  15876\n",
      "128 x 128 =  16384\n",
      "130 x 130 =  16900\n",
      "132 x 132 =  17424\n",
      "134 x 134 =  17956\n",
      "136 x 136 =  18496\n",
      "138 x 138 =  19044\n",
      "140 x 140 =  19600\n",
      "142 x 142 =  20164\n",
      "144 x 144 =  20736\n",
      "146 x 146 =  21316\n",
      "148 x 148 =  21904\n",
      "150 x 150 =  22500\n",
      "152 x 152 =  23104\n",
      "154 x 154 =  23716\n",
      "156 x 156 =  24336\n",
      "158 x 158 =  24964\n",
      "160 x 160 =  25600\n",
      "162 x 162 =  26244\n",
      "164 x 164 =  26896\n",
      "166 x 166 =  27556\n",
      "168 x 168 =  28224\n",
      "170 x 170 =  28900\n",
      "172 x 172 =  29584\n",
      "174 x 174 =  30276\n",
      "176 x 176 =  30976\n",
      "178 x 178 =  31684\n",
      "180 x 180 =  32400\n",
      "182 x 182 =  33124\n",
      "184 x 184 =  33856\n",
      "186 x 186 =  34596\n",
      "188 x 188 =  35344\n",
      "190 x 190 =  36100\n",
      "192 x 192 =  36864\n",
      "194 x 194 =  37636\n",
      "196 x 196 =  38416\n",
      "198 x 198 =  39204\n",
      "200 x 200 =  40000\n"
     ]
    }
   ],
   "source": [
    "print(\"Square of Even number falling in the range of 100 - 200 are = \")\n",
    "for i in range (100,201):\n",
    "  if i % 2 == 0:\n",
    "    print(f\"{i} x {i} = \",i**2)"
   ]
  },
  {
   "cell_type": "code",
   "execution_count": 13,
   "id": "db602bae",
   "metadata": {
    "collapsed": true
   },
   "outputs": [
    {
     "name": "stdout",
     "output_type": "stream",
     "text": [
      "Square of Odd number falling in the range of 100 - 200 are = \n",
      "101 x 101 =  10201\n",
      "103 x 103 =  10609\n",
      "105 x 105 =  11025\n",
      "107 x 107 =  11449\n",
      "109 x 109 =  11881\n",
      "111 x 111 =  12321\n",
      "113 x 113 =  12769\n",
      "115 x 115 =  13225\n",
      "117 x 117 =  13689\n",
      "119 x 119 =  14161\n",
      "121 x 121 =  14641\n",
      "123 x 123 =  15129\n",
      "125 x 125 =  15625\n",
      "127 x 127 =  16129\n",
      "129 x 129 =  16641\n",
      "131 x 131 =  17161\n",
      "133 x 133 =  17689\n",
      "135 x 135 =  18225\n",
      "137 x 137 =  18769\n",
      "139 x 139 =  19321\n",
      "141 x 141 =  19881\n",
      "143 x 143 =  20449\n",
      "145 x 145 =  21025\n",
      "147 x 147 =  21609\n",
      "149 x 149 =  22201\n",
      "151 x 151 =  22801\n",
      "153 x 153 =  23409\n",
      "155 x 155 =  24025\n",
      "157 x 157 =  24649\n",
      "159 x 159 =  25281\n",
      "161 x 161 =  25921\n",
      "163 x 163 =  26569\n",
      "165 x 165 =  27225\n",
      "167 x 167 =  27889\n",
      "169 x 169 =  28561\n",
      "171 x 171 =  29241\n",
      "173 x 173 =  29929\n",
      "175 x 175 =  30625\n",
      "177 x 177 =  31329\n",
      "179 x 179 =  32041\n",
      "181 x 181 =  32761\n",
      "183 x 183 =  33489\n",
      "185 x 185 =  34225\n",
      "187 x 187 =  34969\n",
      "189 x 189 =  35721\n",
      "191 x 191 =  36481\n",
      "193 x 193 =  37249\n",
      "195 x 195 =  38025\n",
      "197 x 197 =  38809\n",
      "199 x 199 =  39601\n"
     ]
    }
   ],
   "source": [
    "print(\"Square of Odd number falling in the range of 100 - 200 are = \")\n",
    "for i in range (100,201):\n",
    "  if i % 2 != 0:\n",
    "    print(f\"{i} x {i} = \",i**2)"
   ]
  },
  {
   "cell_type": "code",
   "execution_count": null,
   "id": "89b848e7",
   "metadata": {},
   "outputs": [],
   "source": []
  },
  {
   "cell_type": "markdown",
   "id": "b5df700f",
   "metadata": {},
   "source": [
    "# Exercise 4: Word counter\n",
    "write a program to count the number of words in a given text.\n",
    "example:\n",
    "input_text = \"This is a sample text. This text will be used to demonstrate the word counter.\"\n"
   ]
  },
  {
   "cell_type": "code",
   "execution_count": 18,
   "id": "59fcdcf3",
   "metadata": {},
   "outputs": [
    {
     "name": "stdout",
     "output_type": "stream",
     "text": [
      "Enter a sentence = A hotel as vibrant as Melbourne's food and cultural scene. Come to Mövenpick Hotel Melbourne on Spencer for the outdoor swimming pool and hot tub and experience the best of modern Asian dining at Miss Mi, which holds a coveted Good Food Chef's Hat award.\n",
      "a = 2\n",
      "hotel = 2\n",
      "as = 2\n",
      "vibrant = 1\n",
      "melbourne's = 1\n",
      "food = 2\n",
      "and = 3\n",
      "cultural = 1\n",
      "scene = 1\n",
      "come = 1\n",
      "to = 1\n",
      "mövenpick = 1\n",
      "melbourne = 1\n",
      "on = 1\n",
      "spencer = 1\n",
      "for = 1\n",
      "the = 2\n",
      "outdoor = 1\n",
      "swimming = 1\n",
      "pool = 1\n",
      "hot = 1\n",
      "tub = 1\n",
      "experience = 1\n",
      "best = 1\n",
      "of = 1\n",
      "modern = 1\n",
      "asian = 1\n",
      "dining = 1\n",
      "at = 1\n",
      "miss = 1\n",
      "mi = 1\n",
      "which = 1\n",
      "holds = 1\n",
      "coveted = 1\n",
      "good = 1\n",
      "chef's = 1\n",
      "hat = 1\n",
      "award = 1\n"
     ]
    }
   ],
   "source": [
    "def word_counts(text):\n",
    "  words = text.split()\n",
    "  word_count = {}\n",
    "    \n",
    "  for word in words:\n",
    "    \n",
    "    word = word.strip(\".,!?:;-\") \n",
    "    word = word.lower() \n",
    "    \n",
    "    if word in word_count:\n",
    "      word_count[word]+= 1\n",
    "    \n",
    "    else:\n",
    "      word_count[word] = 1\n",
    "    \n",
    "  return word_count\n",
    "\n",
    "input_text = input(\"Enter a sentence = \")\n",
    "word_count = word_counts(input_text)\n",
    "for word, count in word_count.items():\n",
    "    \n",
    "  print(f'{word} = {count}')"
   ]
  },
  {
   "cell_type": "code",
   "execution_count": null,
   "id": "f2667456",
   "metadata": {},
   "outputs": [],
   "source": []
  },
  {
   "cell_type": "markdown",
   "id": "bc34b466",
   "metadata": {},
   "source": [
    "# Exercise 5: Check for Palindrome\n",
    "Write a Python function called is_palindrome that takes a string as input and returns True if the string is a palindrome, and False otherwise. A palindrome is a word, phrase, number, or other sequence of characters that reads the same forward and backward, ignoring spaces, punctuation, and capitalization.\n"
   ]
  },
  {
   "cell_type": "code",
   "execution_count": 22,
   "id": "3ab42eae",
   "metadata": {},
   "outputs": [
    {
     "name": "stdout",
     "output_type": "stream",
     "text": [
      "Enter a sentence: malayalam\n",
      "Congratulations!  malayalam  is a Palindrome!\n"
     ]
    }
   ],
   "source": [
    "\n",
    "def is_palindrome(s):\n",
    "    \n",
    "    s = ''.join(char.lower() for char in s if char.isalnum())\n",
    "    left_i, right_i = 0, len(s) - 1\n",
    "    while left_i < right_i:\n",
    "        if s[left_i] != s[right_i]:\n",
    "            return False\n",
    "        left_i += 1\n",
    "        right_i -= 1\n",
    "    return True\n",
    "\n",
    "user_input = input('Enter a sentence: ')\n",
    "\n",
    "if is_palindrome(user_input):\n",
    "    \n",
    "  print('Congratulations! ', user_input, ' is a Palindrome!')\n",
    "\n",
    "else :\n",
    "  print('Sorry! ', user_input, ' is not a Palindrome')"
   ]
  },
  {
   "cell_type": "code",
   "execution_count": null,
   "id": "17009924",
   "metadata": {},
   "outputs": [],
   "source": []
  },
  {
   "cell_type": "code",
   "execution_count": null,
   "id": "808c47cf",
   "metadata": {},
   "outputs": [],
   "source": []
  }
 ],
 "metadata": {
  "kernelspec": {
   "display_name": "Python 3 (ipykernel)",
   "language": "python",
   "name": "python3"
  },
  "language_info": {
   "codemirror_mode": {
    "name": "ipython",
    "version": 3
   },
   "file_extension": ".py",
   "mimetype": "text/x-python",
   "name": "python",
   "nbconvert_exporter": "python",
   "pygments_lexer": "ipython3",
   "version": "3.11.5"
  }
 },
 "nbformat": 4,
 "nbformat_minor": 5
}
