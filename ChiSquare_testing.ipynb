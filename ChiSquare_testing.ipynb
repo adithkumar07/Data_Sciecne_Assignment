{
 "cells": [
  {
   "cell_type": "code",
   "execution_count": 1,
   "id": "e45d5370",
   "metadata": {},
   "outputs": [],
   "source": [
    "import numpy as np\n",
    "from scipy.stats import chi2\n"
   ]
  },
  {
   "cell_type": "code",
   "execution_count": 2,
   "id": "6885ef03",
   "metadata": {},
   "outputs": [],
   "source": [
    "observed=np.array([[50,70],[80,100],[60,90],[330,50],[20,50]])"
   ]
  },
  {
   "cell_type": "code",
   "execution_count": 3,
   "id": "c8abee5c",
   "metadata": {},
   "outputs": [],
   "source": [
    "#Calculate Expected frequencies\n",
    "row_totals=observed.sum(axis=1)\n",
    "col_totals=observed.sum(axis=0)\n",
    "total=observed.sum()\n",
    "expected=np.outer(row_totals,col_totals)/total"
   ]
  },
  {
   "cell_type": "code",
   "execution_count": 4,
   "id": "26205a49",
   "metadata": {},
   "outputs": [],
   "source": [
    "#Calculate chi-square statistics\n",
    "chi2_statistic=np.sum((observed-expected)**2/expected)\n"
   ]
  },
  {
   "cell_type": "code",
   "execution_count": 5,
   "id": "f2a01766",
   "metadata": {},
   "outputs": [],
   "source": [
    "#Degree of freedom\n",
    "degree_of_freedom=(observed.shape[0]-1)*(observed.shape[1]-1)"
   ]
  },
  {
   "cell_type": "code",
   "execution_count": 7,
   "id": "db9d1acb",
   "metadata": {},
   "outputs": [],
   "source": [
    "#Determine critical value\n",
    "alpha=0.05\n",
    "critical_value=chi2.ppf(1-alpha,degree_of_freedom)\n"
   ]
  },
  {
   "cell_type": "code",
   "execution_count": 8,
   "id": "13462002",
   "metadata": {},
   "outputs": [
    {
     "name": "stdout",
     "output_type": "stream",
     "text": [
      "Chi-Square Statistics 202.84217488164853\n",
      "critical Value 9.487729036781154\n",
      "Conclusion Rejust the null hypothesis\n"
     ]
    }
   ],
   "source": [
    "#Make a decision\n",
    "if chi2_statistic > critical_value:\n",
    "    conclusion=\"Rejust the null hypothesis\"\n",
    "else:\n",
    "    conclusion=\"Fail to reject the null hypothesis\"\n",
    "print(\"Chi-Square Statistics\",chi2_statistic)\n",
    "print(\"critical Value\",critical_value)\n",
    "print(\"Conclusion :\",conclusion)\n"
   ]
  },
  {
   "cell_type": "code",
   "execution_count": null,
   "id": "f4b81831",
   "metadata": {},
   "outputs": [],
   "source": []
  }
 ],
 "metadata": {
  "kernelspec": {
   "display_name": "Python 3 (ipykernel)",
   "language": "python",
   "name": "python3"
  },
  "language_info": {
   "codemirror_mode": {
    "name": "ipython",
    "version": 3
   },
   "file_extension": ".py",
   "mimetype": "text/x-python",
   "name": "python",
   "nbconvert_exporter": "python",
   "pygments_lexer": "ipython3",
   "version": "3.11.5"
  }
 },
 "nbformat": 4,
 "nbformat_minor": 5
}
