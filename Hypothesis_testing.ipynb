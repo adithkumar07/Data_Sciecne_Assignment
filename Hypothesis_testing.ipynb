{
 "cells": [
  {
   "cell_type": "code",
   "execution_count": 1,
   "id": "dfdbdb9a",
   "metadata": {},
   "outputs": [],
   "source": [
    "import numpy as np\n",
    "import scipy.stats as stats\n"
   ]
  },
  {
   "cell_type": "markdown",
   "id": "db33d17b",
   "metadata": {},
   "source": [
    "# Task 1: State the Hypotheses"
   ]
  },
  {
   "cell_type": "code",
   "execution_count": 2,
   "id": "4e79b1b3",
   "metadata": {},
   "outputs": [
    {
     "name": "stdout",
     "output_type": "stream",
     "text": [
      "Task 1: State the Hypotheses\n",
      "H0 (Null Hypothesis): The weekly operating cost follows the theoretical cost model (W = $1,000 + $5X).\n",
      "H1 (Alternative Hypothesis): The weekly operating cost is higher than the theoretical cost model.\n",
      "\n"
     ]
    }
   ],
   "source": [
    "print(\"Task 1: State the Hypotheses\")\n",
    "print(\"H0 (Null Hypothesis): The weekly operating cost follows the theoretical cost model (W = $1,000 + $5X).\")\n",
    "print(\"H1 (Alternative Hypothesis): The weekly operating cost is higher than the theoretical cost model.\")\n",
    "print()"
   ]
  },
  {
   "cell_type": "markdown",
   "id": "53bc70e0",
   "metadata": {},
   "source": [
    "# Task 2: Calculate the Test Statistic\n"
   ]
  },
  {
   "cell_type": "code",
   "execution_count": 7,
   "id": "de5b10aa",
   "metadata": {},
   "outputs": [],
   "source": [
    "# - Sample mean weekly cost (x̄): Rs. 3,050\n",
    "sample_mean = 3050"
   ]
  },
  {
   "cell_type": "code",
   "execution_count": 8,
   "id": "d1b671ef",
   "metadata": {},
   "outputs": [],
   "source": [
    "# - Theoretical mean weekly cost (μ): Rs. 1,000 + 5 * 600 = Rs. 4,000\n",
    "theoretical_mean = 1000 + 5 * 600  # Calculated from the given formula"
   ]
  },
  {
   "cell_type": "code",
   "execution_count": 9,
   "id": "7459ce0c",
   "metadata": {},
   "outputs": [],
   "source": [
    "# - Standard deviation (σ): 5 * 25 = Rs. 125\n",
    "standard_deviation = 5 * 25"
   ]
  },
  {
   "cell_type": "code",
   "execution_count": 10,
   "id": "cea842ec",
   "metadata": {},
   "outputs": [],
   "source": [
    "# - Sample size (n): 25\n",
    "sample_size = 25"
   ]
  },
  {
   "cell_type": "code",
   "execution_count": 11,
   "id": "f5618e50",
   "metadata": {},
   "outputs": [],
   "source": [
    "# Calculate the test statistic (t)\n",
    "t = (sample_mean - theoretical_mean) / (standard_deviation / np.sqrt(sample_size))"
   ]
  },
  {
   "cell_type": "code",
   "execution_count": 12,
   "id": "972c8677",
   "metadata": {},
   "outputs": [
    {
     "name": "stdout",
     "output_type": "stream",
     "text": [
      "Test Statistic (t): -38.000\n",
      "\n"
     ]
    }
   ],
   "source": [
    "print(f\"Test Statistic (t): {t:.3f}\")\n",
    "print()"
   ]
  },
  {
   "cell_type": "markdown",
   "id": "b83fae7a",
   "metadata": {},
   "source": [
    "# Task 3: Determine the Critical Value"
   ]
  },
  {
   "cell_type": "code",
   "execution_count": 14,
   "id": "bc144562",
   "metadata": {},
   "outputs": [],
   "source": [
    "# Using the alpha level of 5% (α = 0.05), determine the critical value from the standard normal (Z) distribution.\n",
    "alpha = 0.05"
   ]
  },
  {
   "cell_type": "code",
   "execution_count": 15,
   "id": "05b9149e",
   "metadata": {},
   "outputs": [],
   "source": [
    "# Since this is a one-sided test (greater than), we use the 95th percentile.\n",
    "critical_value = stats.norm.ppf(1 - alpha)"
   ]
  },
  {
   "cell_type": "code",
   "execution_count": 16,
   "id": "6dce986f",
   "metadata": {},
   "outputs": [
    {
     "name": "stdout",
     "output_type": "stream",
     "text": [
      "Critical Value: 1.645\n",
      "\n"
     ]
    }
   ],
   "source": [
    "print(f\"Critical Value: {critical_value:.3f}\")\n",
    "print()"
   ]
  },
  {
   "cell_type": "markdown",
   "id": "addd8708",
   "metadata": {},
   "source": [
    "# Task 4: Make a Decision"
   ]
  },
  {
   "cell_type": "code",
   "execution_count": 17,
   "id": "43f788bd",
   "metadata": {},
   "outputs": [],
   "source": [
    "# Compare the test statistic with the critical value to decide whether to reject the null hypothesis.\n",
    "reject_null = t > critical_value"
   ]
  },
  {
   "cell_type": "code",
   "execution_count": 18,
   "id": "b8ae13e1",
   "metadata": {},
   "outputs": [
    {
     "name": "stdout",
     "output_type": "stream",
     "text": [
      "Decision: Fail to reject the Null Hypothesis. There is not enough evidence to support the restaurant owners' claim that the weekly operating costs are higher than the model suggests.\n",
      "\n"
     ]
    }
   ],
   "source": [
    "if reject_null:\n",
    "    print(\"Decision: Reject the Null Hypothesis. There is strong evidence to support the restaurant owners' claim that the weekly operating costs are higher than the model suggests.\")\n",
    "else:\n",
    "    print(\"Decision: Fail to reject the Null Hypothesis. There is not enough evidence to support the restaurant owners' claim that the weekly operating costs are higher than the model suggests.\")\n",
    "print()\n"
   ]
  },
  {
   "cell_type": "markdown",
   "id": "74152eeb",
   "metadata": {},
   "source": [
    "# Conclusion\n",
    "\n",
    "### There is not enough evidence to support the restaurant owners' claim that the weekly operating costs are higher than the model suggests."
   ]
  },
  {
   "cell_type": "markdown",
   "id": "cc4a4427",
   "metadata": {},
   "source": [
    "# ### Decision: Since the test statistic (-76.071) is less than the critical value (1.645), we fail to reject the null hypothesis."
   ]
  },
  {
   "cell_type": "code",
   "execution_count": null,
   "id": "fd54f7d4",
   "metadata": {},
   "outputs": [],
   "source": []
  }
 ],
 "metadata": {
  "kernelspec": {
   "display_name": "Python 3 (ipykernel)",
   "language": "python",
   "name": "python3"
  },
  "language_info": {
   "codemirror_mode": {
    "name": "ipython",
    "version": 3
   },
   "file_extension": ".py",
   "mimetype": "text/x-python",
   "name": "python",
   "nbconvert_exporter": "python",
   "pygments_lexer": "ipython3",
   "version": "3.11.5"
  }
 },
 "nbformat": 4,
 "nbformat_minor": 5
}
